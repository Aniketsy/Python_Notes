{
  "cells": [
    {
      "cell_type": "markdown",
      "metadata": {},
      "source": [
        "# Python Beginner Tutorials (Corey Schafer Series) — Extended\n",
        "\n",
        "This Colab notebook contains **theory**, **import definitions**, **function definitions**, **edge cases**, and **coding examples with simple test cases** for videos 1–9.\n",
        "\n",
        "## Contents\n",
        "1. Imports & Definitions\n",
        "2. Python Basics (variables, print)\n",
        "3. Strings — theory, methods, edge cases\n",
        "4. Integers & Floats — operations, precision, `decimal`\n",
        "5. Lists, Tuples, Sets — mutability, use-cases, conversions\n",
        "6. Dictionaries — key rules, common patterns\n",
        "7. Conditionals & Booleans — truthiness, short-circuiting\n",
        "8. Loops & Iteration — `for`, `while`, `enumerate`, `zip`, comprehensions\n",
        "9. Functions — signatures, defaults, `*args`, `**kwargs`, docstrings\n",
        "10. Modules & `__name__ == '__main__'`\n",
        "11. Example test cases (asserts)\n",
        "\n",
        "----\n",
        "You can download this notebook after running all cells or directly using the link at the end of this notebook."
      ]
    },
    {
      "cell_type": "markdown",
      "metadata": {},
      "source": [
        "## 1. Imports & Definitions (Theory)\n",
        "\n",
        "- **What is an import?** Bringing code from modules (built-in, third-party, or user-defined) into your current namespace.\n",
        "- **Forms of import:**\n",
        "  - `import module` — use `module.name`\n",
        "  - `from module import name` — import specific attributes\n",
        "  - `import module as m` — aliasing\n",
        "- **Common built-in modules:** `math`, `os`, `sys`, `datetime`, `random`, `json`, `csv`, `collections`, `itertools`, `decimal`.\n",
        "- **When to create your own module:** When you want to reuse functions/classes across files. A Python file `utils.py` becomes a module you can import.\n"
      ]
    },
    {
      "cell_type": "code",
      "metadata": {},
      "execution_count": null,
      "outputs": [],
      "source": [
        "# Imports examples\n",
        "import math\n",
        "from math import sqrt, pi\n",
        "import os as _os\n",
        "from datetime import datetime\n",
        "\n",
        "print('math.pi =', pi)\n",
        "print('sqrt(16)=', sqrt(16))\n",
        "print('cwd =', _os.getcwd())\n",
        "print('now =', datetime.now())"
      ]
    },
    {
      "cell_type": "markdown",
      "metadata": {},
      "source": [
        "### Import Edge Cases & Tips\n",
        "- Avoid `from module import *` in real projects — it pollutes the namespace.\n",
        "- Use aliasing (`import numpy as np`) for long module names commonly used in data work.\n",
        "- If a module isn't found, install it (`pip install`) or check `sys.path` for import locations.\n"
      ]
    },
    {
      "cell_type": "markdown",
      "metadata": {},
      "source": [
        "## 2. Python Basics — Theory\n",
        "\n",
        "- **Variables**: names that reference objects. Python is dynamically typed.\n",
        "- **Types**: `int`, `float`, `str`, `list`, `tuple`, `dict`, `set`, `bool`, etc.\n",
        "- **Printing**: `print()` to display output. Use f-strings for formatted printing: `f\"Hello {name}\"`.\n"
      ]
    },
    {
      "cell_type": "code",
      "metadata": {},
      "execution_count": null,
      "outputs": [],
      "source": [
        "# Basics\n",
        "message = 'Python is fun'\n",
        "x = 42\n",
        "y = 3.5\n",
        "name = 'Aniket'\n",
        "print(message)\n",
        "print(f'{name} -> type: {type(name)}')\n"
      ]
    },
    {
      "cell_type": "markdown",
      "metadata": {},
      "source": [
        "## 3. Strings — Theory\n",
        "\n",
        "- **Definition**: Sequence of characters. Immutable.\n",
        "- **Creation**: single `'...'`, double `\"...\"`, triple `'''...'''` for multiline.\n",
        "- **Common operations**: indexing, slicing, concatenation, `.format()` / f-strings, methods like `.lower()`, `.upper()`, `.split()`, `.join()`.\n",
        "- **Edge cases**: empty string `''`, Unicode characters, encoding when reading/writing files, immutability (can't assign to `s[0]`).\n"
      ]
    },
    {
      "cell_type": "code",
      "metadata": {},
      "execution_count": null,
      "outputs": [],
      "source": [
        "# String examples and edge cases\n",
        "s = 'Hello, World!'\n",
        "print('lower ->', s.lower())\n",
        "print('upper ->', s.upper())\n",
        "print('split ->', s.split(','))\n",
        "print('slice ->', s[7:12])\n",
        "\n",
        "# immutability demonstration (creates a new string)\n",
        "t = s.replace('World', 'Python')\n",
        "print('original:', s)\n",
        "print('modified:', t)\n",
        "\n",
        "# Empty string check\n",
        "empty = ''\n",
        "print('is empty?', len(empty) == 0)\n"
      ]
    },
    {
      "cell_type": "markdown",
      "metadata": {},
      "source": [
        "## 4. Integers & Floats — Theory\n",
        "\n",
        "- **int**: exact whole numbers\n",
        "- **float**: binary floating point, may introduce rounding errors\n",
        "- **Use `decimal`** for exact decimal arithmetic (finance)\n",
        "- **Conversions**: `int()`, `float()` — `int(3.9)` truncates toward zero\n"
      ]
    },
    {
      "cell_type": "code",
      "metadata": {},
      "execution_count": null,
      "outputs": [],
      "source": [
        "# Numeric operations\n",
        "a, b = 5, 2\n",
        "print('a/b =', a/b)\n",
        "print('a//b =', a//b)\n",
        "print('a % b =', a % b)\n",
        "print('a ** b =', a ** b)\n",
        "\n",
        "# Floating point precision example\n",
        "print('0.1 + 0.2 =', 0.1 + 0.2)\n",
        "\n",
        "from decimal import Decimal\n",
        "print('Decimal(0.1) + Decimal(0.2) =', Decimal('0.1') + Decimal('0.2'))\n"
      ]
    },
    {
      "cell_type": "markdown",
      "metadata": {},
      "source": [
        "## 5. Lists, Tuples, Sets — Theory\n",
        "- **List**: ordered, mutable. `list()` or `[...]`.\n",
        "- **Tuple**: ordered, immutable. Use for fixed collections or keys in dicts when appropriate.\n",
        "- **Set**: unordered, unique items. Good for membership checks and deduplication.\n",
        "\n",
        "### Cases & Pitfalls\n",
        "- Lists allow duplicates; sets don't.\n",
        "- Tuples are hashable only if all elements are hashable.\n",
        "- Converting between them: `list(set(mylist))` removes duplicates but loses order.\n"
      ]
    },
    {
      "cell_type": "code",
      "metadata": {},
      "execution_count": null,
      "outputs": [],
      "source": [
        "# Lists\n",
        "fruits = ['apple', 'banana', 'apple']\n",
        "fruits.append('orange')\n",
        "print('list:', fruits)\n",
        "\n",
        "# Remove duplicates (note: order not preserved with simple set conversion)\n",
        "unique = list(set(fruits))\n",
        "print('unique (order not guaranteed):', unique)\n",
        "\n",
        "# Tuple\n",
        "coords = (10, 20)\n",
        "print('tuple:', coords)\n",
        "\n",
        "# Set operations\n",
        "A = {1,2,3}\n",
        "B = {2,3,4}\n",
        "print('union:', A | B)\n",
        "print('intersection:', A & B)\n"
      ]
    },
    {
      "cell_type": "markdown",
      "metadata": {},
      "source": [
        "## 6. Dictionaries — Theory\n",
        "\n",
        "- **Mapping type**: keys -> values.\n",
        "- **Key requirements**: keys must be hashable (immutable) and unique within a dict.\n",
        "- **Common methods**: `.get()`, `.items()`, `.keys()`, `.values()`, `.pop()`\n",
        "\n",
        "### Cases\n",
        "- Accessing a missing key with `d[key]` raises `KeyError`. Use `d.get(key, default)` to avoid exceptions.\n",
        "- Use `defaultdict` from `collections` to supply default values automatically.\n"
      ]
    },
    {
      "cell_type": "code",
      "metadata": {},
      "execution_count": null,
      "outputs": [],
      "source": [
        "student = {'name':'Aniket', 'age':20}\n",
        "print(student['name'])\n",
        "print('phone (safe):', student.get('phone', 'not provided'))\n",
        "\n",
        "from collections import defaultdict\n",
        "dd = defaultdict(int)\n",
        "dd['count'] += 1\n",
        "print('defaultdict:', dd)\n"
      ]
    },
    {
      "cell_type": "markdown",
      "metadata": {},
      "source": [
        "## 7. Conditionals & Booleans — Theory\n",
        "\n",
        "- **Boolean values**: `True`, `False`.\n",
        "- **Truthy / Falsy**: non-empty sequences and non-zero numbers are truthy; `0`, `''`, `[]`, `{}` are falsy.\n",
        "- **Short-circuiting**: `and` / `or` stop evaluation early.\n",
        "\n",
        "### Edge Cases\n",
        "- Beware of `if x:` when `x` might be `0` (numeric) or an empty container — it evaluates to `False`.\n"
      ]
    },
    {
      "cell_type": "code",
      "metadata": {},
      "execution_count": null,
      "outputs": [],
      "source": [
        "x = 0\n",
        "if x:\n",
        "    print('x is truthy')\n",
        "else:\n",
        "    print('x is falsy (0)')\n",
        "\n",
        "# short-circuit\n",
        "def expensive():\n",
        "    print('expensive called')\n",
        "    return True\n",
        "\n",
        "if False and expensive():\n",
        "    print('won\\'t print and expensive not called')\n",
        "\n",
        "if True or expensive():\n",
        "    print('short-circuit: expensive not called because True or ...')\n"
      ]
    },
    {
      "cell_type": "markdown",
      "metadata": {},
      "source": [
        "## 8. Loops & Iteration — Theory\n",
        "\n",
        "- **`for` loops** iterate over iterables using the iterator protocol.\n",
        "- **`while` loops** repeat while a condition holds.\n",
        "- Use `enumerate()` for index+value, `zip()` to iterate multiple iterables in parallel.\n",
        "- **Comprehensions**: concise way to build lists/sets/dicts.\n"
      ]
    },
    {
      "cell_type": "code",
      "metadata": {},
      "execution_count": null,
      "outputs": [],
      "source": [
        "# for loop\n",
        "items = ['a','b','c']\n",
        "for i, v in enumerate(items):\n",
        "    print(i, v)\n",
        "\n",
        "# zip\n",
        "for x, y in zip([1,2,3], ['a','b','c']):\n",
        "    print(x, y)\n",
        "\n",
        "# list comprehension\n",
        "squares = [i*i for i in range(6)]\n",
        "print('squares:', squares)\n",
        "\n",
        "# generator expression (lazy)\n",
        "gen = (i*i for i in range(6))\n",
        "print('next(gen):', next(gen))\n"
      ]
    },
    {
      "cell_type": "markdown",
      "metadata": {},
      "source": [
        "## 9. Functions — Theory\n",
        "\n",
        "- **Definition**: `def name(params):` — creates a callable object.\n",
        "- **Parameters**: positional, keyword-only (Python 3), `*args`, `**kwargs`.\n",
        "- **Defaults**: default parameter values are evaluated only once (beware mutable defaults).\n",
        "- **Docstrings**: describe function behaviour; accessible via `help(func)` or `func.__doc__`.\n",
        "\n",
        "### Common pitfalls / cases\n",
        "- Mutable default arguments (e.g., `def f(x=[]):`) lead to shared state across calls.\n",
        "- Validate arguments if your function depends on specific types or ranges.\n"
      ]
    },
    {
      "cell_type": "code",
      "metadata": {},
      "execution_count": null,
      "outputs": [],
      "source": [
        "# Function examples\n",
        "def greet(name: str = 'Guest') -> str:\n",
        "    \"\"\"Return a greeting for name.\"\"\"\n",
        "    return f'Hello, {name}!'\n",
        "\n",
        "print(greet('Aniket'))\n",
        "print(greet())\n",
        "\n",
        "# mutable default pitfall demonstration\n",
        "def add_item(value, lst=None):\n",
        "    if lst is None:\n",
        "        lst = []\n",
        "    lst.append(value)\n",
        "    return lst\n",
        "\n",
        "print(add_item(1))\n",
        "print(add_item(2))  # separate lists as expected\n",
        "\n",
        "# *args and **kwargs\n",
        "def concat(*parts, sep=' '):\n",
        "    return sep.join(str(p) for p in parts)\n",
        "\n",
        "print(concat('a','b','c'))\n",
        "print(concat('a','b', sep='-'))\n"
      ]
    },
    {
      "cell_type": "markdown",
      "metadata": {},
      "source": [
        "## 10. Modules, Scripts, and `__name__ == '__main__'`\n",
        "\n",
        "- When a Python file is run directly, `__name__ == '__main__'`.\n",
        "- When imported, `__name__` is the module name. Use this guard to run demo / test code only when executed as a script.\n"
      ]
    },
    {
      "cell_type": "code",
      "metadata": {},
      "execution_count": null,
      "outputs": [],
      "source": [
        "# Example of __name__ guard (this cell simulates a module file)\n",
        "def _module_demo():\n",
        "    print('module demo')\n",
        "\n",
        "if __name__ == '__main__':\n",
        "    _module_demo()\n",
        "\n",
        "print('Note: in a notebook __name__ is not \"__main__\" in the same way as a script.')\n"
      ]
    },
    {
      "cell_type": "markdown",
      "metadata": {},
      "source": [
        "## 11. Simple Test Cases (Asserts)\n",
        "\n",
        "Use small `assert` statements for quick sanity checks. For production unit tests use `unittest` or `pytest`.\n"
      ]
    },
    {
      "cell_type": "code",
      "metadata": {},
      "execution_count": null,
      "outputs": [],
      "source": [
        "# Simple asserts\n",
        "assert greet('X') == 'Hello, X!'\n",
        "assert add_item('a') == ['a']\n",
        "assert concat('x','y') == 'x y'\n",
        "print('all asserts passed')\n"
      ]
    },
    
  ],
  "metadata": {
    "kernelspec": {
      "display_name": "Python 3",
      "name": "python3"
    },
    "language_info": {
      "name": "python",
      "version": "3.x"
    }
  },
  "nbformat": 4,
  "nbformat_minor": 5
}
