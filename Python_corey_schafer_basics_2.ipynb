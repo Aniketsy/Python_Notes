{
  "nbformat": 4,
  "nbformat_minor": 5,
  "metadata": {
    "colab": {
      "provenance": []
    }
  },
  "cells": [
    {
      "cell_type": "markdown",
      "metadata": {
        "id": "7T4-_Kj6B1Oq"
      },
      "source": [
        "# Python Basics: Functions, Strings, OS, Datetime, and File Handling"
      ],
      "id": "7T4-_Kj6B1Oq"
    },
    {
      "cell_type": "markdown",
      "metadata": {
        "id": "AsqYZzalB1Ov"
      },
      "source": [
        "---"
      ],
      "id": "AsqYZzalB1Ov"
    },
    {
      "cell_type": "markdown",
      "metadata": {
        "id": "5gITJiRFB1Ow"
      },
      "source": [
        "## 1. Functions\n",
        "\n",
        "### Theoretical Points\n",
        "- Functions are defined using `def`.\n",
        "- Functions can have positional, keyword, default, and arbitrary arguments (`*args`, `**kwargs`).\n",
        "- `return` is used to send values back."
      ],
      "id": "5gITJiRFB1Ow"
    },
    {
      "cell_type": "code",
      "metadata": {
        "id": "mqLaJixjB1Ox"
      },
      "source": [
        "# Defining a function\n",
        "def greet(name):\n",
        "    print(f\"Hello, {name}!\")\n",
        "\n",
        "greet('Alice')  # Hello, Alice!\n",
        "\n",
        "# Function with return value\n",
        "def add(a, b):\n",
        "    return a + b\n",
        "\n",
        "result = add(2, 3)\n",
        "print(result)  # 5\n",
        "\n",
        "# Function with default parameter\n",
        "def power(base, exponent=2):\n",
        "    return base ** exponent\n",
        "\n",
        "print(power(3))  # 9\n",
        "print(power(3, 3))  # 27\n",
        "\n",
        "# Arbitrary arguments\n",
        "def summarize(*args, **kwargs):\n",
        "    print(\"Positional arguments:\", args)\n",
        "    print(\"Keyword arguments:\", kwargs)\n",
        "\n",
        "summarize(1, 2, 3, name='Alice', age=30)"
      ],
      "id": "mqLaJixjB1Ox",
      "execution_count": null,
      "outputs": []
    },
    {
      "cell_type": "markdown",
      "metadata": {
        "id": "UrSYg8hzB1Oz"
      },
      "source": [
        "## 2. Advanced String Formatting\n",
        "\n",
        "### Theoretical Points\n",
        "- f-Strings (Python 3.6+) allow embedding expressions inside strings.\n",
        "- Support for number formatting, padding, alignment, dates, and debugging."
      ],
      "id": "UrSYg8hzB1Oz"
    },
    {
      "cell_type": "code",
      "metadata": {
        "id": "3sZX6W8tB1Oz"
      },
      "source": [
        "name = 'Alice'\n",
        "pi = 3.14159\n",
        "from datetime import datetime\n",
        "\n",
        "greeting = f\"Hello, {name}!\"\n",
        "print(greeting)\n",
        "\n",
        "result = f\"The sum of 10 and 5 is {10 + 5}.\"\n",
        "print(result)\n",
        "\n",
        "formatted_pi = f\"Pi to three decimal places: {pi:.3f}\"\n",
        "print(formatted_pi)\n",
        "\n",
        "# Alignment\n",
        "number = 42\n",
        "aligned = f\"{number:>10}\"\n",
        "print(aligned)\n",
        "\n",
        "# Date formatting\n",
        "today = datetime.now()\n",
        "formatted_date = f\"Today's date is {today:%B %d, %Y}\"\n",
        "print(formatted_date)\n",
        "\n",
        "# Debugging\n",
        "value = 42\n",
        "print(f\"{value}=\")"
      ],
      "id": "3sZX6W8tB1Oz",
      "execution_count": null,
      "outputs": []
    },
    {
      "cell_type": "markdown",
      "metadata": {
        "id": "pvZg6_fyB1O0"
      },
      "source": [
        "## 3. OS Module\n",
        "\n",
        "### Theoretical Points\n",
        "- Provides functions to interact with the operating system.\n",
        "- Directory operations: `getcwd`, `chdir`, `mkdir`, `makedirs`, `rmdir`.\n",
        "- File operations: `rename`, `remove`, `listdir`.\n",
        "- Environment variables: `environ`, `getenv`.\n",
        "- Execute system commands: `system`."
      ],
      "id": "pvZg6_fyB1O0"
    },
    {
      "cell_type": "code",
      "metadata": {
        "id": "ltmr73f9B1O1"
      },
      "source": [
        "import os\n",
        "\n",
        "# Current working directory\n",
        "print(os.getcwd())\n",
        "os.chdir('/tmp')\n",
        "print(os.getcwd())\n",
        "\n",
        "# Create directories\n",
        "os.mkdir('new_folder')\n",
        "os.makedirs('parent/child')\n",
        "\n",
        "# Remove directories\n",
        "os.rmdir('new_folder')\n",
        "\n",
        "# List directory contents\n",
        "print(os.listdir('.'))\n",
        "\n",
        "# Rename and remove files\n",
        "with open('test.txt', 'w') as f:\n",
        "    f.write('Hello')\n",
        "os.rename('test.txt', 'new_test.txt')\n",
        "os.remove('new_test.txt')\n",
        "\n",
        "# Environment variables\n",
        "print(os.environ.get('HOME'))\n",
        "print(os.getenv('SHELL', '/bin/bash'))\n",
        "\n",
        "# System command\n",
        "os.system('echo Hello World')"
      ],
      "id": "ltmr73f9B1O1",
      "execution_count": null,
      "outputs": []
    },
    {
      "cell_type": "markdown",
      "metadata": {
        "id": "Uct1TnfAB1O2"
      },
      "source": [
        "## 4. Datetime Module\n",
        "\n",
        "### Theoretical Points\n",
        "- Classes: `date`, `time`, `datetime`, `timedelta`.\n",
        "- Access components: year, month, day, hour, minute, second.\n",
        "- Arithmetic with `timedelta`.\n",
        "- Formatting: `strftime`, parsing: `strptime`."
      ],
      "id": "Uct1TnfAB1O2"
    },
    {
      "cell_type": "code",
      "metadata": {
        "id": "FMZwbT2fB1O3"
      },
      "source": [
        "from datetime import date, time, datetime, timedelta\n",
        "\n",
        "# Date\n",
        "today = date.today()\n",
        "print(today, today.year, today.month, today.day)\n",
        "\n",
        "# Time\n",
        "t = time(14, 30, 45)\n",
        "print(t, t.hour, t.minute, t.second)\n",
        "\n",
        "# Datetime\n",
        "dt = datetime(2025, 9, 10, 14, 30, 45)\n",
        "print(dt)\n",
        "\n",
        "# Timedelta\n",
        "delta = timedelta(days=5)\n",
        "future_date = dt + delta\n",
        "print(future_date)\n",
        "\n",
        "# Formatting\n",
        "dt_str = dt.strftime('%A, %B %d, %Y %I:%M:%S %p')\n",
        "print(dt_str)\n",
        "\n",
        "# Parsing\n",
        "parsed_date = datetime.strptime('2025-09-10 14:30:45', '%Y-%m-%d %H:%M:%S')\n",
        "print(parsed_date)"
      ],
      "id": "FMZwbT2fB1O3",
      "execution_count": null,
      "outputs": []
    },
    {
      "cell_type": "markdown",
      "metadata": {
        "id": "0ozXH24vB1O3"
      },
      "source": [
        "## 5. File Handling\n",
        "\n",
        "### Theoretical Points\n",
        "- `open()` returns a file object.\n",
        "- Modes: `'r'`, `'w'`, `'a'`, `'b'`, `'x'`, `'+'` variations.\n",
        "- Always close files or use `with` statement.\n",
        "- Methods: `read`, `readline`, `readlines`, `write`, `writelines`, `flush`, `seek`, `tell`."
      ],
      "id": "0ozXH24vB1O3"
    },
    {
      "cell_type": "code",
      "metadata": {
        "id": "AQEV4J2eB1O3"
      },
      "source": [
        "# Reading a file\n",
        "with open('example.txt', 'r') as f:\n",
        "    content = f.read()\n",
        "    print(content)\n",
        "\n",
        "# Reading line by line\n",
        "with open('example.txt', 'r') as f:\n",
        "    for line in f:\n",
        "        print(line.strip())\n",
        "\n",
        "# Writing to a file\n",
        "with open('output.txt', 'w') as f:\n",
        "    f.write('Hello World\\n')\n",
        "    f.writelines(['Python\\n', 'File Handling\\n'])\n",
        "\n",
        "# File pointer operations\n",
        "with open('output.txt', 'r') as f:\n",
        "    print(f.tell())\n",
        "    print(f.read(5))\n",
        "    f.seek(0)\n",
        "    print(f.read())"
      ],
      "id": "AQEV4J2eB1O3",
      "execution_count": null,
      "outputs": []
    }
  ]
}